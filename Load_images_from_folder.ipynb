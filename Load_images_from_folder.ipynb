{
 "cells": [
  {
   "cell_type": "code",
   "execution_count": null,
   "metadata": {},
   "outputs": [],
   "source": [
    "import cv2\n",
    "import glob\n",
    "import os\n",
    "import numpy as np\n",
    "from skimage.transform import rescale, resize, downscale_local_mean\n",
    "\n",
    "def make_imgs_one_size(func_imgs):\n",
    "    assert isinstance(func_imgs, list), 'Необходимо передать список'\n",
    "    row_nums = np.zeros((len(func_imgs),), dtype=np.uint16)\n",
    "    col_nums = np.zeros((len(func_imgs),), dtype=np.uint16)\n",
    "    for i, img in enumerate(func_imgs):\n",
    "        row_nums[i], col_nums[i] = img.shape\n",
    "    mean_row_num = np.floor(np.mean(row_nums))\n",
    "    mean_col_num = np.floor(np.mean(col_nums))\n",
    "    for i in range(len(func_imgs)):\n",
    "        func_imgs[i] = np.uint8(resize(func_imgs[i], (mean_row_num, mean_col_num)) * 255) # resize преобразует в float, игнорирует preserve_range=True\n",
    "    return func_imgs\n",
    "    \n",
    "\n",
    "stitched_imgs = []\n",
    "path = r\"tiled_data\\*\"\n",
    "file_ext = '*.tif'\n",
    "subfolders = list(glob.glob(path))\n",
    "for idx, subfolder in enumerate(subfolders):\n",
    "    cur_path = os.path.join(subfolder, 'pano.tif')    \n",
    "    stitched_imgs.append(cv2.imread(cur_path, cv2.IMREAD_GRAYSCALE))\n",
    "    \n",
    "stitched_imgs = make_imgs_one_size(stitched_imgs)"
   ]
  },
  {
   "cell_type": "code",
   "execution_count": 5,
   "metadata": {},
   "outputs": [],
   "source": [
    "import glob\n",
    "import os\n",
    "import cv2\n",
    "\n",
    "def load_images_from_folder(abs_path_parent_folder, subfolder_names, file_extension):\n",
    "    imgs = []\n",
    "    imgs_names = [[] for i in subfolder_names]\n",
    "    for idx, subfolder_name in enumerate(subfolder_names):          \n",
    "        full_path = os.path.join(abs_path_parent_folder, subfolder_name)    \n",
    "        for file_path in glob.glob(os.path.join(full_path, file_extension)):            \n",
    "            imgs.append(cv2.imread(file_path, cv2.IMREAD_GRAYSCALE))\n",
    "            imgs_names[idx].append(os.path.basename(file_path))\n",
    "    return imgs_names, imgs"
   ]
  },
  {
   "cell_type": "code",
   "execution_count": 6,
   "metadata": {},
   "outputs": [],
   "source": [
    "stitched_imgs_names, stitched_imgs = load_images_from_folder(r'C:\\Users\\denni\\YandexDisk\\Python\\tiled_data', ['CD3e', 'CD4'], '*.tif')"
   ]
  },
  {
   "cell_type": "code",
   "execution_count": 7,
   "metadata": {},
   "outputs": [
    {
     "data": {
      "text/plain": [
       "[['1.tif',\n",
       "  '10.tif',\n",
       "  '11.tif',\n",
       "  '12.tif',\n",
       "  '13.tif',\n",
       "  '14.tif',\n",
       "  '15.tif',\n",
       "  '16.tif',\n",
       "  '2.tif',\n",
       "  '3.tif',\n",
       "  '4.tif',\n",
       "  '5.tif',\n",
       "  '6.tif',\n",
       "  '7.tif',\n",
       "  '8.tif',\n",
       "  '9.tif',\n",
       "  'pano.tif',\n",
       "  'pano_cropped.tif'],\n",
       " ['1.tif',\n",
       "  '10.tif',\n",
       "  '11.tif',\n",
       "  '12.tif',\n",
       "  '13.tif',\n",
       "  '14.tif',\n",
       "  '15.tif',\n",
       "  '16.tif',\n",
       "  '2.tif',\n",
       "  '3.tif',\n",
       "  '4.tif',\n",
       "  '5.tif',\n",
       "  '6.tif',\n",
       "  '7.tif',\n",
       "  '8.tif',\n",
       "  '9.tif',\n",
       "  'pano.tif',\n",
       "  'pano_cropped.tif']]"
      ]
     },
     "execution_count": 7,
     "metadata": {},
     "output_type": "execute_result"
    }
   ],
   "source": [
    "stitched_imgs_names"
   ]
  }
 ],
 "metadata": {
  "kernelspec": {
   "display_name": "Python 3",
   "language": "python",
   "name": "python3"
  },
  "language_info": {
   "codemirror_mode": {
    "name": "ipython",
    "version": 3
   },
   "file_extension": ".py",
   "mimetype": "text/x-python",
   "name": "python",
   "nbconvert_exporter": "python",
   "pygments_lexer": "ipython3",
   "version": "3.7.4"
  },
  "varInspector": {
   "cols": {
    "lenName": 16,
    "lenType": 16,
    "lenVar": 40
   },
   "kernels_config": {
    "python": {
     "delete_cmd_postfix": "",
     "delete_cmd_prefix": "del ",
     "library": "var_list.py",
     "varRefreshCmd": "print(var_dic_list())"
    },
    "r": {
     "delete_cmd_postfix": ") ",
     "delete_cmd_prefix": "rm(",
     "library": "var_list.r",
     "varRefreshCmd": "cat(var_dic_list()) "
    }
   },
   "position": {
    "height": "415.4px",
    "left": "1567.2px",
    "right": "20px",
    "top": "110px",
    "width": "403px"
   },
   "types_to_exclude": [
    "module",
    "function",
    "builtin_function_or_method",
    "instance",
    "_Feature"
   ],
   "window_display": true
  }
 },
 "nbformat": 4,
 "nbformat_minor": 2
}
