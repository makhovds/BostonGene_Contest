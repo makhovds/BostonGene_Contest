{
 "cells": [
  {
   "cell_type": "markdown",
   "metadata": {},
   "source": [
    "# Сшивка изображений\n",
    "Загрузка и сшивка изображений с помощью метода Stitch класса Stitcher библиотеки OpenCV"
   ]
  },
  {
   "cell_type": "code",
   "execution_count": 1,
   "metadata": {},
   "outputs": [],
   "source": [
    "%matplotlib inline\n",
    "from matplotlib import pyplot as plt\n",
    "import cv2\n",
    "import glob\n",
    "import os\n",
    "\n",
    "def make_dir(dir_abs_path):\n",
    "    try:\n",
    "        os.mkdir(dir_abs_path)\n",
    "    except OSError as error:\n",
    "        pass  \n",
    "\n",
    "def stitch(func_imgs):\n",
    "    assert len(func_imgs) > 1, \"Передан список изображений c длиной\" + str(len(func_imgs)) + \"!\"\n",
    "    stitcher = cv2.Stitcher.create(mode=1)\n",
    "    status, result = stitcher.stitch(func_imgs)\n",
    "    if status == 0:\n",
    "        return result\n",
    "    return None\n",
    "\n",
    "path = r\"tiled_data\\*\"\n",
    "file_ext = '*.tif'\n",
    "subfolders = list(glob.glob(path))\n",
    "for subfolder in subfolders:\n",
    "    if os.path.basename(subfolder) not in [\"Stitched\", \"Stitched_cropped\", \"Stitched_cropped_preprocessed\",\n",
    "    \"BW_cluster_solo\", \"BW_nuclei\", \"BW_nuclei_on_img\"]:\n",
    "        cur_path = subfolder\n",
    "        imgs = []\n",
    "        for file1 in glob.glob(os.path.join(cur_path, file_ext)):\n",
    "            if 'pano' in file1:\n",
    "                continue\n",
    "            img = cv2.imread(file1)\n",
    "            imgs.append(img)\n",
    "        result = stitch(imgs)\n",
    "        save_path = os.path.join(os.path.abspath(os.getcwd()), os.path.dirname(subfolder), \"Stitched\")\n",
    "        make_dir(save_path)\n",
    "        cv2.imwrite(os.path.join(save_path, \"pano_\" + os.path.basename(subfolder) + \".tif\"), result)"
   ]
  }
 ],
 "metadata": {
  "kernelspec": {
   "display_name": "Python 3",
   "language": "python",
   "name": "python3"
  },
  "language_info": {
   "codemirror_mode": {
    "name": "ipython",
    "version": 3
   },
   "file_extension": ".py",
   "mimetype": "text/x-python",
   "name": "python",
   "nbconvert_exporter": "python",
   "pygments_lexer": "ipython3",
   "version": "3.7.6"
  },
  "varInspector": {
   "cols": {
    "lenName": 16,
    "lenType": 16,
    "lenVar": 40
   },
   "kernels_config": {
    "python": {
     "delete_cmd_postfix": "",
     "delete_cmd_prefix": "del ",
     "library": "var_list.py",
     "varRefreshCmd": "print(var_dic_list())"
    },
    "r": {
     "delete_cmd_postfix": ") ",
     "delete_cmd_prefix": "rm(",
     "library": "var_list.r",
     "varRefreshCmd": "cat(var_dic_list()) "
    }
   },
   "types_to_exclude": [
    "module",
    "function",
    "builtin_function_or_method",
    "instance",
    "_Feature"
   ],
   "window_display": false
  }
 },
 "nbformat": 4,
 "nbformat_minor": 2
}
